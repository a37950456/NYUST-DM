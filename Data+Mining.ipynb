{
 "cells": [
  {
   "cell_type": "code",
   "execution_count": 1,
   "metadata": {},
   "outputs": [
    {
     "name": "stdout",
     "output_type": "stream",
     "text": [
      "Collecting matplotlib\n",
      "  Downloading matplotlib-2.1.1-cp35-cp35m-manylinux1_x86_64.whl (15.0MB)\n",
      "\u001b[K    100% |████████████████████████████████| 15.0MB 64kB/s eta 0:00:01    66% |█████████████████████▎          | 10.0MB 1.0MB/s eta 0:00:05    73% |███████████████████████▍        | 11.0MB 1.2MB/s eta 0:00:04    87% |████████████████████████████    | 13.1MB 774kB/s eta 0:00:03\n",
      "\u001b[?25hRequirement already satisfied: pandas in /usr/local/lib/python3.5/dist-packages\n",
      "Requirement already satisfied: numpy in /usr/local/lib/python3.5/dist-packages\n",
      "Collecting scipy\n",
      "  Downloading scipy-1.0.0-cp35-cp35m-manylinux1_x86_64.whl (49.6MB)\n",
      "\u001b[K    100% |████████████████████████████████| 49.6MB 18kB/s eta 0:00:01    29% |█████████▍                      | 14.6MB 189kB/s eta 0:03:05    41% |█████████████▍                  | 20.8MB 412kB/s eta 0:01:10    42% |█████████████▊                  | 21.3MB 1.1MB/s eta 0:00:26    44% |██████████████▎                 | 22.1MB 478kB/s eta 0:00:58    55% |██████████████████              | 27.8MB 686kB/s eta 0:00:32    60% |███████████████████▌            | 30.2MB 1.0MB/s eta 0:00:19    61% |███████████████████▋            | 30.5MB 955kB/s eta 0:00:21    83% |██████████████████████████▋     | 41.2MB 651kB/s eta 0:00:13    84% |███████████████████████████     | 42.0MB 678kB/s eta 0:00:12    85% |███████████████████████████▌    | 42.6MB 603kB/s eta 0:00:12\n",
      "\u001b[?25hCollecting sklearn\n",
      "  Downloading sklearn-0.0.tar.gz\n",
      "Requirement already satisfied: python-dateutil>=2.0 in /usr/local/lib/python3.5/dist-packages (from matplotlib)\n",
      "Collecting cycler>=0.10 (from matplotlib)\n",
      "  Downloading cycler-0.10.0-py2.py3-none-any.whl\n",
      "Requirement already satisfied: pytz in /usr/local/lib/python3.5/dist-packages (from matplotlib)\n",
      "Requirement already satisfied: pyparsing!=2.0.4,!=2.1.2,!=2.1.6,>=2.0.1 in /usr/lib/python3/dist-packages (from matplotlib)\n",
      "Requirement already satisfied: six>=1.10 in ./.local/lib/python3.5/site-packages (from matplotlib)\n",
      "Collecting scikit-learn (from sklearn)\n",
      "  Downloading scikit_learn-0.19.1-cp35-cp35m-manylinux1_x86_64.whl (12.2MB)\n",
      "\u001b[K    100% |████████████████████████████████| 12.2MB 71kB/s eta 0:00:01\n",
      "\u001b[?25hBuilding wheels for collected packages: sklearn\n",
      "  Running setup.py bdist_wheel for sklearn ... \u001b[?25ldone\n",
      "\u001b[?25h  Stored in directory: /home/b10317015/.cache/pip/wheels/d7/db/a3/1b8041ab0be63b5c96c503df8e757cf205c2848cf9ef55f85e\n",
      "Successfully built sklearn\n",
      "Installing collected packages: cycler, matplotlib, scipy, scikit-learn, sklearn\n",
      "Successfully installed cycler-0.10.0 matplotlib-2.1.1 scikit-learn-0.19.1 scipy-1.0.0 sklearn-0.0\n"
     ]
    }
   ],
   "source": [
    "!pip install --user matplotlib pandas numpy scipy sklearn"
   ]
  },
  {
   "cell_type": "code",
   "execution_count": 7,
   "metadata": {},
   "outputs": [
    {
     "name": "stdout",
     "output_type": "stream",
     "text": [
      "b'sepal_length,sepal_width,petal_length,petal_width,species\\n5.1,3.5,1.4,0.2,setosa\\n4.9,3,1.4,0.2,setosa\\n4.7,3.2,1.3,0.2,setosa\\n4.6,3.1,1.5,0.2,setosa\\n5,3.6,1.4,0.2,setosa\\n5.4,3.9,1.7,0.4,setosa\\n4.6,3.4,1.4,0.3,setosa\\n5,3.4,1.5,0.2,setosa\\n4.4,2.9,1.4,0.2,setosa\\n4.9,3.1,1.5,0.1,setosa\\n5.4,3.7,1.5,0.2,setosa\\n4.8,3.4,1.6,0.2,setosa\\n4.8,3,1.4,0.1,setosa\\n4.3,3,1.1,0.1,setosa\\n5.8,4,1.2,0.2,setosa\\n5.7,4.4,1.5,0.4,setosa\\n5.4,3.9,1.3,0.4,setosa\\n5.1,3.5,1.4,0.3,setosa\\n5.7,3.8,1.7,0.3,setosa\\n5.1,3.8,1.5,0.3,setosa\\n5.4,3.4,1.7,0.2,setosa\\n5.1,3.7,1.5,0.4,setosa\\n4.6,3.6,1,0.2,setosa\\n5.1,3.3,1.7,0.5,setosa\\n4.8,3.4,1.9,0.2,setosa\\n5,3,1.6,0.2,setosa\\n5,3.4,1.6,0.4,setosa\\n5.2,3.5,1.5,0.2,setosa\\n5.2,3.4,1.4,0.2,setosa\\n4.7,3.2,1.6,0.2,setosa\\n4.8,3.1,1.6,0.2,setosa\\n5.4,3.4,1.5,0.4,setosa\\n5.2,4.1,1.5,0.1,setosa\\n5.5,4.2,1.4,0.2,setosa\\n4.9,3.1,1.5,0.1,setosa\\n5,3.2,1.2,0.2,setosa\\n5.5,3.5,1.3,0.2,setosa\\n4.9,3.1,1.5,0.1,setosa\\n4.4,3,1.3,0.2,setosa\\n5.1,3.4,1.5,0.2,setosa\\n5,3.5,1.3,0.3,setosa\\n4.5,2.3,1.3,0.3,setosa\\n4.4,3.2,1.3,0.2,setosa\\n5,3.5,1.6,0.6,setosa\\n5.1,3.8,1.9,0.4,setosa\\n4.8,3,1.4,0.3,setosa\\n5.1,3.8,1.6,0.2,setosa\\n4.6,3.2,1.4,0.2,setosa\\n5.3,3.7,1.5,0.2,setosa\\n5,3.3,1.4,0.2,setosa\\n7,3.2,4.7,1.4,versicolor\\n6.4,3.2,4.5,1.5,versicolor\\n6.9,3.1,4.9,1.5,versicolor\\n5.5,2.3,4,1.3,versicolor\\n6.5,2.8,4.6,1.5,versicolor\\n5.7,2.8,4.5,1.3,versicolor\\n6.3,3.3,4.7,1.6,versicolor\\n4.9,2.4,3.3,1,versicolor\\n6.6,2.9,4.6,1.3,versicolor\\n5.2,2.7,3.9,1.4,versicolor\\n5,2,3.5,1,versicolor\\n5.9,3,4.2,1.5,versicolor\\n6,2.2,4,1,versicolor\\n6.1,2.9,4.7,1.4,versicolor\\n5.6,2.9,3.6,1.3,versicolor\\n6.7,3.1,4.4,1.4,versicolor\\n5.6,3,4.5,1.5,versicolor\\n5.8,2.7,4.1,1,versicolor\\n6.2,2.2,4.5,1.5,versicolor\\n5.6,2.5,3.9,1.1,versicolor\\n5.9,3.2,4.8,1.8,versicolor\\n6.1,2.8,4,1.3,versicolor\\n6.3,2.5,4.9,1.5,versicolor\\n6.1,2.8,4.7,1.2,versicolor\\n6.4,2.9,4.3,1.3,versicolor\\n6.6,3,4.4,1.4,versicolor\\n6.8,2.8,4.8,1.4,versicolor\\n6.7,3,5,1.7,versicolor\\n6,2.9,4.5,1.5,versicolor\\n5.7,2.6,3.5,1,versicolor\\n5.5,2.4,3.8,1.1,versicolor\\n5.5,2.4,3.7,1,versicolor\\n5.8,2.7,3.9,1.2,versicolor\\n6,2.7,5.1,1.6,versicolor\\n5.4,3,4.5,1.5,versicolor\\n6,3.4,4.5,1.6,versicolor\\n6.7,3.1,4.7,1.5,versicolor\\n6.3,2.3,4.4,1.3,versicolor\\n5.6,3,4.1,1.3,versicolor\\n5.5,2.5,4,1.3,versicolor\\n5.5,2.6,4.4,1.2,versicolor\\n6.1,3,4.6,1.4,versicolor\\n5.8,2.6,4,1.2,versicolor\\n5,2.3,3.3,1,versicolor\\n5.6,2.7,4.2,1.3,versicolor\\n5.7,3,4.2,1.2,versicolor\\n5.7,2.9,4.2,1.3,versicolor\\n6.2,2.9,4.3,1.3,versicolor\\n5.1,2.5,3,1.1,versicolor\\n5.7,2.8,4.1,1.3,versicolor\\n6.3,3.3,6,2.5,virginica\\n5.8,2.7,5.1,1.9,virginica\\n7.1,3,5.9,2.1,virginica\\n6.3,2.9,5.6,1.8,virginica\\n6.5,3,5.8,2.2,virginica\\n7.6,3,6.6,2.1,virginica\\n4.9,2.5,4.5,1.7,virginica\\n7.3,2.9,6.3,1.8,virginica\\n6.7,2.5,5.8,1.8,virginica\\n7.2,3.6,6.1,2.5,virginica\\n6.5,3.2,5.1,2,virginica\\n6.4,2.7,5.3,1.9,virginica\\n6.8,3,5.5,2.1,virginica\\n5.7,2.5,5,2,virginica\\n5.8,2.8,5.1,2.4,virginica\\n6.4,3.2,5.3,2.3,virginica\\n6.5,3,5.5,1.8,virginica\\n7.7,3.8,6.7,2.2,virginica\\n7.7,2.6,6.9,2.3,virginica\\n6,2.2,5,1.5,virginica\\n6.9,3.2,5.7,2.3,virginica\\n5.6,2.8,4.9,2,virginica\\n7.7,2.8,6.7,2,virginica\\n6.3,2.7,4.9,1.8,virginica\\n6.7,3.3,5.7,2.1,virginica\\n7.2,3.2,6,1.8,virginica\\n6.2,2.8,4.8,1.8,virginica\\n6.1,3,4.9,1.8,virginica\\n6.4,2.8,5.6,2.1,virginica\\n7.2,3,5.8,1.6,virginica\\n7.4,2.8,6.1,1.9,virginica\\n7.9,3.8,6.4,2,virginica\\n6.4,2.8,5.6,2.2,virginica\\n6.3,2.8,5.1,1.5,virginica\\n6.1,2.6,5.6,1.4,virginica\\n7.7,3,6.1,2.3,virginica\\n6.3,3.4,5.6,2.4,virginica\\n6.4,3.1,5.5,1.8,virginica\\n6,3,4.8,1.8,virginica\\n6.9,3.1,5.4,2.1,virginica\\n6.7,3.1,5.6,2.4,virginica\\n6.9,3.1,5.1,2.3,virginica\\n5.8,2.7,5.1,1.9,virginica\\n6.8,3.2,5.9,2.3,virginica\\n6.7,3.3,5.7,2.5,virginica\\n6.7,3,5.2,2.3,virginica\\n6.3,2.5,5,1.9,virginica\\n6.5,3,5.2,2,virginica\\n6.2,3.4,5.4,2.3,virginica\\n5.9,3,5.1,1.8,virginica\\n'\n"
     ]
    }
   ],
   "source": [
    "%matplotlib inline\n",
    "import matplotlib\n",
    "import numpy as np\n",
    "import matplotlib.pyplot as plt\n",
    "\n",
    "import requests \n",
    "from io import BytesIO\n",
    "\n",
    "iris_url = 'https://raw.githubusercontent.com/uiuc-cse/data-fa14/gh-pages/data/iris.csv'\n",
    "resp = requests.get(iris_url)\n",
    "print(resp.content)\n",
    "\n",
    "data=BytesIO(resp.content)"
   ]
  },
  {
   "cell_type": "code",
   "execution_count": 8,
   "metadata": {},
   "outputs": [
    {
     "name": "stdout",
     "output_type": "stream",
     "text": [
      "   sepal_length  sepal_width  petal_length  petal_width species\n",
      "0           5.1          3.5           1.4          0.2  setosa\n",
      "1           4.9          3.0           1.4          0.2  setosa\n",
      "2           4.7          3.2           1.3          0.2  setosa\n",
      "3           4.6          3.1           1.5          0.2  setosa\n",
      "4           5.0          3.6           1.4          0.2  setosa\n"
     ]
    }
   ],
   "source": [
    "import pandas as pd\n",
    "from sklearn import tree\n",
    "from sklearn.model_selection import train_test_split\n",
    "from sklearn.metrics import confusion_matrix,classification_report,accuracy_score\n",
    "\n",
    "df=pd.read_csv(data)\n",
    "print(df.head())\n",
    "#print(df.head()['sepal_length'])\n",
    "#print(df.iloc[0])"
   ]
  },
  {
   "cell_type": "code",
   "execution_count": 9,
   "metadata": {},
   "outputs": [
    {
     "name": "stdout",
     "output_type": "stream",
     "text": [
      "0    setosa\n",
      "1    setosa\n",
      "2    setosa\n",
      "3    setosa\n",
      "4    setosa\n",
      "Name: species, dtype: category\n",
      "Categories (3, object): [setosa, versicolor, virginica]\n",
      " \n",
      "   sepal_length  sepal_width  petal_length  petal_width\n",
      "0           5.1          3.5           1.4          0.2\n",
      "1           4.9          3.0           1.4          0.2\n",
      "2           4.7          3.2           1.3          0.2\n",
      "3           4.6          3.1           1.5          0.2\n",
      "4           5.0          3.6           1.4          0.2\n"
     ]
    }
   ],
   "source": [
    "target = df[df.columns[-1]]\n",
    "target = target.astype('category')\n",
    "numeric_data=df._get_numeric_data()    #確保資料都是數字\n",
    "print(target.head())\n",
    "print(\" \")\n",
    "print(numeric_data.head())"
   ]
  },
  {
   "cell_type": "code",
   "execution_count": 21,
   "metadata": {},
   "outputs": [
    {
     "name": "stdout",
     "output_type": "stream",
     "text": [
      "     sepal_length  sepal_width  petal_length  petal_width\n",
      "88            5.6          3.0           4.1          1.3\n",
      "41            4.5          2.3           1.3          0.3\n",
      "52            6.9          3.1           4.9          1.5\n",
      "34            4.9          3.1           1.5          0.1\n",
      "135           7.7          3.0           6.1          2.3\n"
     ]
    }
   ],
   "source": [
    "training_data, testing_data, training_label, testing_label, = train_test_split(numeric_data, target.cat.codes)\n",
    "print(training_data.head())"
   ]
  },
  {
   "cell_type": "code",
   "execution_count": 22,
   "metadata": {},
   "outputs": [
    {
     "name": "stdout",
     "output_type": "stream",
     "text": [
      "DecisionTreeClassifier(class_weight=None, criterion='gini', max_depth=None,\n",
      "            max_features=None, max_leaf_nodes=None,\n",
      "            min_impurity_decrease=0.0, min_impurity_split=None,\n",
      "            min_samples_leaf=1, min_samples_split=2,\n",
      "            min_weight_fraction_leaf=0.0, presort=False, random_state=None,\n",
      "            splitter='best')\n"
     ]
    }
   ],
   "source": [
    "tree_model = tree.DecisionTreeClassifier()\n",
    "tree_model.fit(training_data, training_label)    #fit in  >> model\n",
    " \n",
    "print(tree_model)"
   ]
  },
  {
   "cell_type": "code",
   "execution_count": 23,
   "metadata": {},
   "outputs": [
    {
     "name": "stdout",
     "output_type": "stream",
     "text": [
      "[0 2 2 2 0]\n",
      "[[ 1.  0.  0.]\n",
      " [ 0.  0.  1.]\n",
      " [ 0.  0.  1.]\n",
      " [ 0.  0.  1.]\n",
      " [ 1.  0.  0.]]\n"
     ]
    }
   ],
   "source": [
    "predict_result = tree_model.predict(testing_data)     #predict\n",
    "score_result = tree_model.predict_proba(testing_data)       #predict probability\n",
    "\n",
    "print(predict_result[0:5])\n",
    "print(score_result[0:5])"
   ]
  },
  {
   "cell_type": "code",
   "execution_count": 29,
   "metadata": {},
   "outputs": [
    {
     "name": "stdout",
     "output_type": "stream",
     "text": [
      "[[15  0  0]\n",
      " [ 0  8  0]\n",
      " [ 0  1 14]]\n",
      "=======\n",
      "             precision    recall  f1-score   support\n",
      "\n",
      "     setosa       1.00      1.00      1.00        15\n",
      " versicolor       0.89      1.00      0.94         8\n",
      "  virginica       1.00      0.93      0.97        15\n",
      "\n",
      "avg / total       0.98      0.97      0.97        38\n",
      "\n",
      "=======\n",
      "0.973684210526\n"
     ]
    }
   ],
   "source": [
    "matrix = confusion_matrix(testing_label, predict_result)  #wiki introduction\n",
    "report = classification_report(testing_label, predict_result, target_names=target.cat.categories)\n",
    "acc = accuracy_score(testing_label, predict_result) #準確度\n",
    "\n",
    "print(matrix)    \n",
    "                               #setosa    versicolor   virginica\n",
    "                 #setosa\n",
    "                 #versicolor\n",
    "                 #virginica      \n",
    "print(\"=======\")\n",
    "print(report)\n",
    "print(\"=======\")  #recall = category/support \n",
    "print(acc)"
   ]
  },
  {
   "cell_type": "code",
   "execution_count": 37,
   "metadata": {},
   "outputs": [
    {
     "data": {
      "image/png": "[encoded data removed]",
      "text/plain": [
       "<matplotlib.figure.Figure at 0x7f07b2609dd8>"
      ]
     },
     "metadata": {},
     "output_type": "display_data"
    }
   ],
   "source": [
    "import itertools\n",
    "\n",
    "def plot_confusion_matrix(cm, classes,\n",
    "                          normalize=False,\n",
    "                          title='Confusion matrix',\n",
    "                          cmap=plt.cm.Blues):\n",
    "\n",
    "    if normalize:\n",
    "        cm = cm.astype('float') / cm.sum(axis=1)[:, np.newaxis]\n",
    "        \n",
    "\n",
    "    plt.imshow(cm, interpolation='nearest', cmap=cmap)\n",
    "    plt.title(title)\n",
    "    plt.colorbar()\n",
    "    tick_marks = np.arange(len(classes))\n",
    "    plt.xticks(tick_marks, classes, rotation=45)\n",
    "    plt.yticks(tick_marks, classes)\n",
    "\n",
    "    fmt = '.2f' if normalize else 'd'\n",
    "    thresh = cm.max() / 2.\n",
    "    for i, j in itertools.product(range(cm.shape[0]), range(cm.shape[1])):\n",
    "        plt.text(j, i, format(cm[i, j], fmt),\n",
    "                 horizontalalignment=\"center\",\n",
    "                 color=\"white\" if cm[i, j] > thresh else \"black\")\n",
    "\n",
    "    plt.tight_layout()\n",
    "    plt.ylabel('True label')\n",
    "    plt.xlabel('Predicted label')\n",
    "\n",
    "plt.figure(figsize=(16,9))\n",
    "plot_confusion_matrix(matrix, classes=target.cat.categories,\n",
    "                      title='Confusion matrix')\n",
    "\n",
    "plt.show()"
   ]
  },
  {
   "cell_type": "code",
   "execution_count": null,
   "metadata": {
    "collapsed": true
   },
   "outputs": [],
   "source": []
  }
 ],
 "metadata": {
  "kernelspec": {
   "display_name": "Python 3",
   "language": "python",
   "name": "python3"
  },
  "language_info": {
   "codemirror_mode": {
    "name": "ipython",
    "version": 3
   },
   "file_extension": ".py",
   "mimetype": "text/x-python",
   "name": "python",
   "nbconvert_exporter": "python",
   "pygments_lexer": "ipython3",
   "version": "3.5.2"
  }
 },
 "nbformat": 4,
 "nbformat_minor": 2
}
